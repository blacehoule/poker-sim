{
 "metadata": {
  "language_info": {
   "codemirror_mode": {
    "name": "ipython",
    "version": 3
   },
   "file_extension": ".py",
   "mimetype": "text/x-python",
   "name": "python",
   "nbconvert_exporter": "python",
   "pygments_lexer": "ipython3",
   "version": "3.8.6-final"
  },
  "orig_nbformat": 2,
  "kernelspec": {
   "name": "python3",
   "display_name": "Python 3.8.6 64-bit ('.venv')",
   "metadata": {
    "interpreter": {
     "hash": "b17a8cf955f7a6bed739b46818b2bb2ee095a3f7e853e02669d90ca42e2d229e"
    }
   }
  }
 },
 "nbformat": 4,
 "nbformat_minor": 2,
 "cells": [
  {
   "source": [
    "# Poker"
   ],
   "cell_type": "markdown",
   "metadata": {}
  },
  {
   "source": [
    "## The Basics\n",
    "\n",
    "Source: https://www.contrib.andrew.cmu.edu/~gc00/reviews/pokerrules\n",
    "\n",
    "- Poker is played from a standard deck of 52 cards\n",
    "- Individual cards are ranked, from high to low, as Ace, King, Queen, Jack, 10, 9, 8, 7, 6, 5, 4, 3, 2, \\[Ace\\] (Ace can be high or low, but is usually high).\n",
    "- There are four suits: Spades, Hearts, Diamonds, and Clubs. No one suit is higher than another.\n",
    "- All poker hands contain five cards, the highest hand wins.\n",
    "\n",
    "## Hand Ranks\n",
    "\n",
    "Hands are ranked from hight to low as follows:\n",
    "\n",
    "1. Straight Flush\n",
    "    * A Straight Flush is the best natural hand. A straight flush is a straight (5 cards in order, such as 5-6-7-8-9) that are all of the same suit. As in a regular straight, you can have an ace either high (A-K-Q-J-T) or low (5-4-3-2-1). However, a straight may not 'wraparound'. (Such as K-A-2-3-4, which is not a straight). An Ace high straight-flush is called a Royal Flush and is the highest natural hand.\n",
    "\n",
    "2. Four of a Kind\n",
    "    * Four of a Kind is simply four cards of the same rank. If there are two or more hands that qualify, the hand with the higher-rank four of a kind wins. Ties are not possible for Four of a Kind with a standard deck. However, as a general rule: when hands tie on the rank of a pair, three of a kind, etc, the cards outside break ties following the High Card rules.\n",
    "    \n",
    "3. Full House\n",
    "\n",
    "    * A full house is a three of a kind and a pair, such as K-K-K-5-5. Ties are broken first by the three of a kind, then pair. So K-K-K-2-2 beats Q-Q-Q-A-A, and while not possible with a standard deck, Q-Q-Q-A-A would beat Q-Q-Q-J-J from a ranking perspective.\n",
    "\n",
    "4. Flush\n",
    "\n",
    "    * A Flush is a hand where all of the cards are the same suit, such as J-8-5-3-2, all of Spades. When flushes tie, follow the rules for High Card.\n",
    "\n",
    "5. Straight\n",
    "\n",
    "    * A Straight is 5 cards in order, such as 4-5-6-7-8. An ace may either be high (A-K-Q-J-T) or low (5-4-3-2-1). However, a straight may not 'wraparound'. (Such as Q-K-A-2-3, which is not a straight). When straights tie, the highest straight wins. (AKQJT beats KQJT9 down to 5432A). If two straights have the same value (AKQJT vs AKQJT) they split the pot.\n",
    "\n",
    "6. Three of a Kind\n",
    "\n",
    "    * Three cards of any rank, matched with two cards that are not a pair, otherwise it would be a Full House. Highest three of a kind wins.\n",
    "\n",
    "7. Two Pair\n",
    "\n",
    "    * This is two distinct pairs of card and a 5th card. The highest pair wins ties. If both hands have the same high pair, the second pair wins. If both hands have the same pairs, the high card wins.\n",
    "\n",
    "8. Pair\n",
    "\n",
    "    * One pair with three distinct cards. High card breaks ties.\n",
    "\n",
    "9. High Card\n",
    "\n",
    "    * This is any hand which doesn't qualify as any one of the above hands. If nobody has a pair or better, then the highest card wins. If multiple people tie for the highest card, they look at the second highest, then the third highest etc. High card is also used to break ties when the high hands both have the same type of hand (pair, flush, straight, etc)."
   ],
   "cell_type": "markdown",
   "metadata": {}
  },
  {
   "cell_type": "code",
   "execution_count": 118,
   "metadata": {},
   "outputs": [],
   "source": [
    "import pandas as pd\n",
    "import numpy as np\n",
    "import itertools as it\n",
    "from math import comb\n",
    "from random import sample, seed\n",
    "from collections import Counter"
   ]
  },
  {
   "cell_type": "code",
   "execution_count": 48,
   "metadata": {},
   "outputs": [
    {
     "output_type": "execute_result",
     "data": {
      "text/plain": [
       "              hand  distinct_hands  frequency  probability  cum_prob  \\\n",
       "0   straight flush              10         40     0.000015  0.000015   \n",
       "1   four of a kind             156        624     0.000240  0.000255   \n",
       "2       full house             156       3744     0.001441  0.001696   \n",
       "3            flush            1277       5108     0.001965  0.003661   \n",
       "4         straight              10      10200     0.003925  0.007586   \n",
       "5  three of a kind             858      54912     0.021128  0.028715   \n",
       "6         two pair             858     123552     0.047539  0.076254   \n",
       "7         one pair            2860    1098240     0.422569  0.498823   \n",
       "8        high card            1277    1302540     0.501177  1.000000   \n",
       "\n",
       "   odds_against  \n",
       "0  64973.000000  \n",
       "1   4164.000000  \n",
       "2    693.166667  \n",
       "3    507.801879  \n",
       "4    253.800000  \n",
       "5     46.329545  \n",
       "6     20.035354  \n",
       "7      1.366477  \n",
       "8      0.995301  "
      ],
      "text/html": "<div>\n<style scoped>\n    .dataframe tbody tr th:only-of-type {\n        vertical-align: middle;\n    }\n\n    .dataframe tbody tr th {\n        vertical-align: top;\n    }\n\n    .dataframe thead th {\n        text-align: right;\n    }\n</style>\n<table border=\"1\" class=\"dataframe\">\n  <thead>\n    <tr style=\"text-align: right;\">\n      <th></th>\n      <th>hand</th>\n      <th>distinct_hands</th>\n      <th>frequency</th>\n      <th>probability</th>\n      <th>cum_prob</th>\n      <th>odds_against</th>\n    </tr>\n  </thead>\n  <tbody>\n    <tr>\n      <th>0</th>\n      <td>straight flush</td>\n      <td>10</td>\n      <td>40</td>\n      <td>0.000015</td>\n      <td>0.000015</td>\n      <td>64973.000000</td>\n    </tr>\n    <tr>\n      <th>1</th>\n      <td>four of a kind</td>\n      <td>156</td>\n      <td>624</td>\n      <td>0.000240</td>\n      <td>0.000255</td>\n      <td>4164.000000</td>\n    </tr>\n    <tr>\n      <th>2</th>\n      <td>full house</td>\n      <td>156</td>\n      <td>3744</td>\n      <td>0.001441</td>\n      <td>0.001696</td>\n      <td>693.166667</td>\n    </tr>\n    <tr>\n      <th>3</th>\n      <td>flush</td>\n      <td>1277</td>\n      <td>5108</td>\n      <td>0.001965</td>\n      <td>0.003661</td>\n      <td>507.801879</td>\n    </tr>\n    <tr>\n      <th>4</th>\n      <td>straight</td>\n      <td>10</td>\n      <td>10200</td>\n      <td>0.003925</td>\n      <td>0.007586</td>\n      <td>253.800000</td>\n    </tr>\n    <tr>\n      <th>5</th>\n      <td>three of a kind</td>\n      <td>858</td>\n      <td>54912</td>\n      <td>0.021128</td>\n      <td>0.028715</td>\n      <td>46.329545</td>\n    </tr>\n    <tr>\n      <th>6</th>\n      <td>two pair</td>\n      <td>858</td>\n      <td>123552</td>\n      <td>0.047539</td>\n      <td>0.076254</td>\n      <td>20.035354</td>\n    </tr>\n    <tr>\n      <th>7</th>\n      <td>one pair</td>\n      <td>2860</td>\n      <td>1098240</td>\n      <td>0.422569</td>\n      <td>0.498823</td>\n      <td>1.366477</td>\n    </tr>\n    <tr>\n      <th>8</th>\n      <td>high card</td>\n      <td>1277</td>\n      <td>1302540</td>\n      <td>0.501177</td>\n      <td>1.000000</td>\n      <td>0.995301</td>\n    </tr>\n  </tbody>\n</table>\n</div>"
     },
     "metadata": {},
     "execution_count": 48
    }
   ],
   "source": [
    "total_hands = comb(52,5)\n",
    "\n",
    "rows = [['straight flush', 10, 40],\n",
    "        ['four of a kind', 156, 624],\n",
    "        ['full house', 156, 3744],\n",
    "        ['flush', 1277, 5108],\n",
    "        ['straight', 10, 10200],\n",
    "        ['three of a kind', 858, 54912],\n",
    "        ['two pair', 858, 123552],\n",
    "        ['one pair', 2860, 1098240],\n",
    "        ['high card', 1277, 1302540]]\n",
    "\n",
    "hand_prob_df = pd.DataFrame(rows, columns=['hand', 'distinct_hands', 'frequency'])\n",
    "\n",
    "hand_prob_df['probability'] = hand_prob_df.frequency / total_hands\n",
    "hand_prob_df['cum_prob'] = hand_prob_df.probability.cumsum()\n",
    "hand_prob_df['odds_against'] = (1.0 - hand_prob_df.probability) / hand_prob_df.probability\n",
    "\n",
    "hand_prob_df"
   ]
  },
  {
   "cell_type": "code",
   "execution_count": 23,
   "metadata": {},
   "outputs": [],
   "source": [
    "def build_deck():\n",
    "    ranks = list(range(2,15))\n",
    "    suits = ['H','S','C','D']\n",
    "    deck = []\n",
    "    for i in ranks:\n",
    "        for s in suits:\n",
    "            card = s+':'+str(i)\n",
    "            deck.append(card)\n",
    "    return deck"
   ]
  },
  {
   "cell_type": "code",
   "execution_count": 100,
   "metadata": {},
   "outputs": [],
   "source": [
    "def is_flush(hand):\n",
    "    suits = [c.split(':')[0] for c in hand]\n",
    "    return True if len(set(suits)) == 1 else False\n",
    "\n",
    "def are_ranks_straight(ranks):\n",
    "    straight = True\n",
    "    for i in range(1,5):\n",
    "        if ranks[i] - ranks[i-1] != 1:\n",
    "            straight = False\n",
    "            break\n",
    "        else:\n",
    "            pass\n",
    "    return straight\n",
    "\n",
    "def is_straight(hand):\n",
    "    ranks = sorted([int(c.split(':')[1]) for c in hand])\n",
    "\n",
    "    straight = are_ranks_straight(ranks)\n",
    "    \n",
    "    if 14 in ranks:\n",
    "        ranks = sorted([1 if c == 14 else c for c in ranks])\n",
    "        straight = are_ranks_straight(ranks)\n",
    "\n",
    "    return straight\n",
    "\n",
    "def is_straight_flush(hand):\n",
    "    return True if is_straight(hand) & is_flush(hand) else False\n",
    "\n",
    "def is_4oaK(hand):\n",
    "    ranks = [int(c.split(':')[1]) for c in hand]\n",
    "    return True if 4 in Counter(ranks).values() else False\n",
    "\n",
    "# def is_full_house(hand):\n",
    "\n",
    "# def is_3oaK(hand):\n",
    "\n",
    "# def is_2pair(hand):\n",
    "\n",
    "# def is_1pair(hand):"
   ]
  },
  {
   "cell_type": "code",
   "execution_count": 51,
   "metadata": {},
   "outputs": [],
   "source": [
    "deck = build_deck()"
   ]
  },
  {
   "cell_type": "code",
   "execution_count": 117,
   "metadata": {},
   "outputs": [
    {
     "output_type": "stream",
     "name": "stdout",
     "text": [
      "['S:2', 'D:7', 'C:3', 'H:13', 'S:4']\nFalse\nFalse\nFalse\n"
     ]
    }
   ],
   "source": [
    "seed(3046)\n",
    "hand = sample(deck,5)\n",
    "print(hand)\n",
    "print(is_straight(hand))\n",
    "print(is_flush(hand))\n",
    "print(is_straight_flush(hand))"
   ]
  },
  {
   "cell_type": "code",
   "execution_count": 96,
   "metadata": {},
   "outputs": [
    {
     "output_type": "execute_result",
     "data": {
      "text/plain": [
       "True"
      ]
     },
     "metadata": {},
     "execution_count": 96
    }
   ],
   "source": [
    "is_straight(['C:2','S:3','H:5','D:4','C:14'])"
   ]
  },
  {
   "cell_type": "code",
   "execution_count": 94,
   "metadata": {},
   "outputs": [
    {
     "output_type": "execute_result",
     "data": {
      "text/plain": [
       "True"
      ]
     },
     "metadata": {},
     "execution_count": 94
    }
   ],
   "source": [
    "is_flush(['C:7','C:3','C:5','C:6','C:14'])"
   ]
  },
  {
   "cell_type": "code",
   "execution_count": 101,
   "metadata": {},
   "outputs": [
    {
     "output_type": "execute_result",
     "data": {
      "text/plain": [
       "True"
      ]
     },
     "metadata": {},
     "execution_count": 101
    }
   ],
   "source": [
    "is_straight_flush(['C:2','C:3','C:5','C:4','C:14'])"
   ]
  },
  {
   "cell_type": "code",
   "execution_count": 123,
   "metadata": {},
   "outputs": [
    {
     "output_type": "execute_result",
     "data": {
      "text/plain": [
       "True"
      ]
     },
     "metadata": {},
     "execution_count": 123
    }
   ],
   "source": [
    "4 in Counter([3,3,3,3,4]).values()"
   ]
  }
 ]
}